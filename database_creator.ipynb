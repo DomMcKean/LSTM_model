{
 "cells": [
  {
   "cell_type": "markdown",
   "metadata": {},
   "source": [
    "## Dataset Creator\n",
    "This code finds all the rosbag files in a given path and concatenates them into a single dataframe before saving the as a new .csv file."
   ]
  },
  {
   "cell_type": "code",
   "execution_count": 1,
   "metadata": {
    "ExecuteTime": {
     "end_time": "2020-12-14T22:07:49.173765Z",
     "start_time": "2020-12-14T22:07:48.481070Z"
    }
   },
   "outputs": [],
   "source": [
    "import glob\n",
    "import pandas as pd"
   ]
  },
  {
   "cell_type": "markdown",
   "metadata": {},
   "source": [
    "### Set Path:\n",
    "Set your own path to your stored .csv files.\n",
    "The get_path function below is used to set the path in the concatenator function."
   ]
  },
  {
   "cell_type": "code",
   "execution_count": 12,
   "metadata": {
    "ExecuteTime": {
     "end_time": "2020-12-14T22:17:22.220656Z",
     "start_time": "2020-12-14T22:17:22.216245Z"
    }
   },
   "outputs": [],
   "source": [
    "PATH = \"/home/ur10pc/Desktop/robot_data9/\"\n",
    "\n",
    "def get_path():\n",
    "    return PATH "
   ]
  },
  {
   "cell_type": "markdown",
   "metadata": {},
   "source": [
    "### Concatenator Function:\n",
    "This function serches the PATH for .csv files and concats them to form one big dataframe."
   ]
  },
  {
   "cell_type": "code",
   "execution_count": 10,
   "metadata": {
    "ExecuteTime": {
     "end_time": "2020-12-14T22:16:09.216800Z",
     "start_time": "2020-12-14T22:16:09.209319Z"
    }
   },
   "outputs": [],
   "source": [
    "def concatenator(file_name):\n",
    "    path = get_path()\n",
    "    data = pd.DataFrame()\n",
    "    for file in glob.glob(f'{path}*/' + f'*{file_name}_throttle.csv'):\n",
    "        x = pd.read_csv(file, low_memory=False)\n",
    "        data = pd.concat([data,x],axis=0)\n",
    "    return data"
   ]
  },
  {
   "cell_type": "markdown",
   "metadata": {},
   "source": [
    "### Call the Concatenate Function:\n",
    "Create two instances of concatenated data using the concatenate function. \n"
   ]
  },
  {
   "cell_type": "code",
   "execution_count": 13,
   "metadata": {
    "ExecuteTime": {
     "end_time": "2020-12-14T22:17:28.062375Z",
     "start_time": "2020-12-14T22:17:27.252811Z"
    }
   },
   "outputs": [],
   "source": [
    "ur_data = concatenator('joint_states')\n",
    "force_data = concatenator('robotiq_ft_sensor')\n"
   ]
  },
  {
   "cell_type": "markdown",
   "metadata": {},
   "source": [
    "### Save Data:\n",
    "Save the two new dataframes as .csv files."
   ]
  },
  {
   "cell_type": "code",
   "execution_count": 14,
   "metadata": {
    "ExecuteTime": {
     "end_time": "2020-12-14T22:17:31.612724Z",
     "start_time": "2020-12-14T22:17:31.057407Z"
    }
   },
   "outputs": [],
   "source": [
    "ur_data.to_csv(get_path() + '/data/ur_data.csv', index=False)\n",
    "force_data.to_csv(get_path() + '/data/force_data.csv', index=False)\n"
   ]
  },
  {
   "cell_type": "markdown",
   "metadata": {},
   "source": [
    "### Display the UR Data:"
   ]
  },
  {
   "cell_type": "code",
   "execution_count": 15,
   "metadata": {
    "ExecuteTime": {
     "end_time": "2020-12-14T22:17:33.839674Z",
     "start_time": "2020-12-14T22:17:33.818060Z"
    },
    "scrolled": true
   },
   "outputs": [
    {
     "name": "stdout",
     "output_type": "stream",
     "text": [
      "<class 'pandas.core.frame.DataFrame'>\n",
      "(25000, 12)\n"
     ]
    },
    {
     "data": {
      "text/html": [
       "<div>\n",
       "<style scoped>\n",
       "    .dataframe tbody tr th:only-of-type {\n",
       "        vertical-align: middle;\n",
       "    }\n",
       "\n",
       "    .dataframe tbody tr th {\n",
       "        vertical-align: top;\n",
       "    }\n",
       "\n",
       "    .dataframe thead th {\n",
       "        text-align: right;\n",
       "    }\n",
       "</style>\n",
       "<table border=\"1\" class=\"dataframe\">\n",
       "  <thead>\n",
       "    <tr style=\"text-align: right;\">\n",
       "      <th></th>\n",
       "      <th>rosbagTimestamp</th>\n",
       "      <th>header</th>\n",
       "      <th>seq</th>\n",
       "      <th>stamp</th>\n",
       "      <th>secs</th>\n",
       "      <th>nsecs</th>\n",
       "      <th>frame_id</th>\n",
       "      <th>name</th>\n",
       "      <th>wrist_3_joint]</th>\n",
       "      <th>position</th>\n",
       "      <th>velocity</th>\n",
       "      <th>effort</th>\n",
       "    </tr>\n",
       "  </thead>\n",
       "  <tbody>\n",
       "    <tr>\n",
       "      <th>0</th>\n",
       "      <td>1607963012906694843</td>\n",
       "      <td>NaN</td>\n",
       "      <td>2432757</td>\n",
       "      <td>NaN</td>\n",
       "      <td>1607963012</td>\n",
       "      <td>906388861</td>\n",
       "      <td>''</td>\n",
       "      <td>[shoulder_pan_joint, shoulder_lift_joint, elbo...</td>\n",
       "      <td>[0.8880992531776428, -0.920875374470846, 2.064...</td>\n",
       "      <td>[0.0, 0.0, -0.0, 0.0, 0.0, 0.0]</td>\n",
       "      <td>[-1.0711671113967896, -6.248474597930908, -1.6...</td>\n",
       "      <td>NaN</td>\n",
       "    </tr>\n",
       "    <tr>\n",
       "      <th>1</th>\n",
       "      <td>1607963013018840587</td>\n",
       "      <td>NaN</td>\n",
       "      <td>2432771</td>\n",
       "      <td>NaN</td>\n",
       "      <td>1607963013</td>\n",
       "      <td>18458984</td>\n",
       "      <td>''</td>\n",
       "      <td>[shoulder_pan_joint, shoulder_lift_joint, elbo...</td>\n",
       "      <td>[0.888087272644043, -0.9209230581866663, 2.064...</td>\n",
       "      <td>[0.0, 0.0, -0.0, 0.0, 0.0, 0.0]</td>\n",
       "      <td>[-1.1077882051467896, -6.188965320587158, -1.6...</td>\n",
       "      <td>NaN</td>\n",
       "    </tr>\n",
       "    <tr>\n",
       "      <th>2</th>\n",
       "      <td>1607963013130707189</td>\n",
       "      <td>NaN</td>\n",
       "      <td>2432785</td>\n",
       "      <td>NaN</td>\n",
       "      <td>1607963013</td>\n",
       "      <td>130352957</td>\n",
       "      <td>''</td>\n",
       "      <td>[shoulder_pan_joint, shoulder_lift_joint, elbo...</td>\n",
       "      <td>[0.8881351947784424, -0.920875374470846, 2.064...</td>\n",
       "      <td>[0.0, 0.0, -0.0, 0.0, 0.0, 0.0]</td>\n",
       "      <td>[-1.1032105684280396, -6.230164051055908, -1.5...</td>\n",
       "      <td>NaN</td>\n",
       "    </tr>\n",
       "    <tr>\n",
       "      <th>3</th>\n",
       "      <td>1607963013242771752</td>\n",
       "      <td>NaN</td>\n",
       "      <td>2432799</td>\n",
       "      <td>NaN</td>\n",
       "      <td>1607963013</td>\n",
       "      <td>242404596</td>\n",
       "      <td>''</td>\n",
       "      <td>[shoulder_pan_joint, shoulder_lift_joint, elbo...</td>\n",
       "      <td>[0.888087272644043, -0.9208992163287562, 2.064...</td>\n",
       "      <td>[0.0, 0.0, -0.0, 0.0, 0.0, 0.0]</td>\n",
       "      <td>[-1.0986329317092896, -6.211853504180908, -1.6...</td>\n",
       "      <td>NaN</td>\n",
       "    </tr>\n",
       "    <tr>\n",
       "      <th>4</th>\n",
       "      <td>1607963013354818591</td>\n",
       "      <td>NaN</td>\n",
       "      <td>2432813</td>\n",
       "      <td>NaN</td>\n",
       "      <td>1607963013</td>\n",
       "      <td>354404097</td>\n",
       "      <td>''</td>\n",
       "      <td>[shoulder_pan_joint, shoulder_lift_joint, elbo...</td>\n",
       "      <td>[0.889406681060791, -0.9204915205584925, 2.063...</td>\n",
       "      <td>[0.013307283632457256, 0.0006391586503013968, ...</td>\n",
       "      <td>[0.9246827363967896, -5.314636707305908, -1.92...</td>\n",
       "      <td>NaN</td>\n",
       "    </tr>\n",
       "  </tbody>\n",
       "</table>\n",
       "</div>"
      ],
      "text/plain": [
       "       rosbagTimestamp  header      seq  stamp        secs      nsecs  \\\n",
       "0  1607963012906694843     NaN  2432757    NaN  1607963012  906388861   \n",
       "1  1607963013018840587     NaN  2432771    NaN  1607963013   18458984   \n",
       "2  1607963013130707189     NaN  2432785    NaN  1607963013  130352957   \n",
       "3  1607963013242771752     NaN  2432799    NaN  1607963013  242404596   \n",
       "4  1607963013354818591     NaN  2432813    NaN  1607963013  354404097   \n",
       "\n",
       "  frame_id                                               name  \\\n",
       "0       ''  [shoulder_pan_joint, shoulder_lift_joint, elbo...   \n",
       "1       ''  [shoulder_pan_joint, shoulder_lift_joint, elbo...   \n",
       "2       ''  [shoulder_pan_joint, shoulder_lift_joint, elbo...   \n",
       "3       ''  [shoulder_pan_joint, shoulder_lift_joint, elbo...   \n",
       "4       ''  [shoulder_pan_joint, shoulder_lift_joint, elbo...   \n",
       "\n",
       "                                      wrist_3_joint]  \\\n",
       "0  [0.8880992531776428, -0.920875374470846, 2.064...   \n",
       "1  [0.888087272644043, -0.9209230581866663, 2.064...   \n",
       "2  [0.8881351947784424, -0.920875374470846, 2.064...   \n",
       "3  [0.888087272644043, -0.9208992163287562, 2.064...   \n",
       "4  [0.889406681060791, -0.9204915205584925, 2.063...   \n",
       "\n",
       "                                            position  \\\n",
       "0                    [0.0, 0.0, -0.0, 0.0, 0.0, 0.0]   \n",
       "1                    [0.0, 0.0, -0.0, 0.0, 0.0, 0.0]   \n",
       "2                    [0.0, 0.0, -0.0, 0.0, 0.0, 0.0]   \n",
       "3                    [0.0, 0.0, -0.0, 0.0, 0.0, 0.0]   \n",
       "4  [0.013307283632457256, 0.0006391586503013968, ...   \n",
       "\n",
       "                                            velocity  effort  \n",
       "0  [-1.0711671113967896, -6.248474597930908, -1.6...     NaN  \n",
       "1  [-1.1077882051467896, -6.188965320587158, -1.6...     NaN  \n",
       "2  [-1.1032105684280396, -6.230164051055908, -1.5...     NaN  \n",
       "3  [-1.0986329317092896, -6.211853504180908, -1.6...     NaN  \n",
       "4  [0.9246827363967896, -5.314636707305908, -1.92...     NaN  "
      ]
     },
     "metadata": {},
     "output_type": "display_data"
    }
   ],
   "source": [
    "print(type(ur_data))\n",
    "print(ur_data.shape)\n",
    "display(ur_data.head())"
   ]
  },
  {
   "cell_type": "markdown",
   "metadata": {},
   "source": [
    "### Display the Robotiq Force Torque Data:"
   ]
  },
  {
   "cell_type": "code",
   "execution_count": 16,
   "metadata": {
    "ExecuteTime": {
     "end_time": "2020-12-14T22:18:28.116733Z",
     "start_time": "2020-12-14T22:18:28.097311Z"
    },
    "scrolled": true
   },
   "outputs": [
    {
     "name": "stdout",
     "output_type": "stream",
     "text": [
      "<class 'pandas.core.frame.DataFrame'>\n",
      "(25000, 7)\n"
     ]
    },
    {
     "data": {
      "text/html": [
       "<div>\n",
       "<style scoped>\n",
       "    .dataframe tbody tr th:only-of-type {\n",
       "        vertical-align: middle;\n",
       "    }\n",
       "\n",
       "    .dataframe tbody tr th {\n",
       "        vertical-align: top;\n",
       "    }\n",
       "\n",
       "    .dataframe thead th {\n",
       "        text-align: right;\n",
       "    }\n",
       "</style>\n",
       "<table border=\"1\" class=\"dataframe\">\n",
       "  <thead>\n",
       "    <tr style=\"text-align: right;\">\n",
       "      <th></th>\n",
       "      <th>rosbagTimestamp</th>\n",
       "      <th>Fx</th>\n",
       "      <th>Fy</th>\n",
       "      <th>Fz</th>\n",
       "      <th>Mx</th>\n",
       "      <th>My</th>\n",
       "      <th>Mz</th>\n",
       "    </tr>\n",
       "  </thead>\n",
       "  <tbody>\n",
       "    <tr>\n",
       "      <th>0</th>\n",
       "      <td>1607963012927461164</td>\n",
       "      <td>0.789993</td>\n",
       "      <td>-0.830002</td>\n",
       "      <td>-0.080000</td>\n",
       "      <td>0.041</td>\n",
       "      <td>0.209000</td>\n",
       "      <td>0.051</td>\n",
       "    </tr>\n",
       "    <tr>\n",
       "      <th>1</th>\n",
       "      <td>1607963013038015173</td>\n",
       "      <td>0.829987</td>\n",
       "      <td>-0.809998</td>\n",
       "      <td>-0.039999</td>\n",
       "      <td>0.038</td>\n",
       "      <td>0.212000</td>\n",
       "      <td>0.051</td>\n",
       "    </tr>\n",
       "    <tr>\n",
       "      <th>2</th>\n",
       "      <td>1607963013149067594</td>\n",
       "      <td>0.829987</td>\n",
       "      <td>-0.840012</td>\n",
       "      <td>-0.049999</td>\n",
       "      <td>0.038</td>\n",
       "      <td>0.209000</td>\n",
       "      <td>0.052</td>\n",
       "    </tr>\n",
       "    <tr>\n",
       "      <th>3</th>\n",
       "      <td>1607963013259812871</td>\n",
       "      <td>0.689987</td>\n",
       "      <td>-0.130005</td>\n",
       "      <td>-0.090000</td>\n",
       "      <td>-0.001</td>\n",
       "      <td>0.205999</td>\n",
       "      <td>0.051</td>\n",
       "    </tr>\n",
       "    <tr>\n",
       "      <th>4</th>\n",
       "      <td>1607963013375585013</td>\n",
       "      <td>-0.050003</td>\n",
       "      <td>-3.100006</td>\n",
       "      <td>-0.719999</td>\n",
       "      <td>0.331</td>\n",
       "      <td>0.087000</td>\n",
       "      <td>0.018</td>\n",
       "    </tr>\n",
       "  </tbody>\n",
       "</table>\n",
       "</div>"
      ],
      "text/plain": [
       "       rosbagTimestamp        Fx        Fy        Fz     Mx        My     Mz\n",
       "0  1607963012927461164  0.789993 -0.830002 -0.080000  0.041  0.209000  0.051\n",
       "1  1607963013038015173  0.829987 -0.809998 -0.039999  0.038  0.212000  0.051\n",
       "2  1607963013149067594  0.829987 -0.840012 -0.049999  0.038  0.209000  0.052\n",
       "3  1607963013259812871  0.689987 -0.130005 -0.090000 -0.001  0.205999  0.051\n",
       "4  1607963013375585013 -0.050003 -3.100006 -0.719999  0.331  0.087000  0.018"
      ]
     },
     "metadata": {},
     "output_type": "display_data"
    }
   ],
   "source": [
    "print(type(force_data))\n",
    "print(force_data.shape)\n",
    "display(force_data.head())"
   ]
  },
  {
   "cell_type": "markdown",
   "metadata": {},
   "source": [
    "### Explore the Data:\n",
    "Using the pandas.describe method one can usually get some interesting insights into the data; however, not yet for the ur_data, as this dataframe still requires a lot of pre-processing."
    "The max and min values for the joint angles for example will be very usefull when building reinforcement learning controllers with joint limits.  "
   ]
  },
  {
   "cell_type": "code",
   "execution_count": 17,
   "metadata": {
    "ExecuteTime": {
     "end_time": "2020-12-14T22:18:32.039582Z",
     "start_time": "2020-12-14T22:18:31.970235Z"
    }
   },
   "outputs": [
    {
     "data": {
      "text/html": [
       "<div>\n",
       "<style scoped>\n",
       "    .dataframe tbody tr th:only-of-type {\n",
       "        vertical-align: middle;\n",
       "    }\n",
       "\n",
       "    .dataframe tbody tr th {\n",
       "        vertical-align: top;\n",
       "    }\n",
       "\n",
       "    .dataframe thead th {\n",
       "        text-align: right;\n",
       "    }\n",
       "</style>\n",
       "<table border=\"1\" class=\"dataframe\">\n",
       "  <thead>\n",
       "    <tr style=\"text-align: right;\">\n",
       "      <th></th>\n",
       "      <th>rosbagTimestamp</th>\n",
       "      <th>header</th>\n",
       "      <th>seq</th>\n",
       "      <th>stamp</th>\n",
       "      <th>secs</th>\n",
       "      <th>nsecs</th>\n",
       "      <th>effort</th>\n",
       "    </tr>\n",
       "  </thead>\n",
       "  <tbody>\n",
       "    <tr>\n",
       "      <th>count</th>\n",
       "      <td>2.500000e+04</td>\n",
       "      <td>0.0</td>\n",
       "      <td>2.500000e+04</td>\n",
       "      <td>0.0</td>\n",
       "      <td>2.500000e+04</td>\n",
       "      <td>2.500000e+04</td>\n",
       "      <td>0.0</td>\n",
       "    </tr>\n",
       "    <tr>\n",
       "      <th>mean</th>\n",
       "      <td>1.607964e+18</td>\n",
       "      <td>NaN</td>\n",
       "      <td>2.507394e+06</td>\n",
       "      <td>NaN</td>\n",
       "      <td>1.607964e+09</td>\n",
       "      <td>5.002121e+08</td>\n",
       "      <td>NaN</td>\n",
       "    </tr>\n",
       "    <tr>\n",
       "      <th>std</th>\n",
       "      <td>1.343896e+12</td>\n",
       "      <td>NaN</td>\n",
       "      <td>1.679944e+05</td>\n",
       "      <td>NaN</td>\n",
       "      <td>1.343896e+03</td>\n",
       "      <td>2.886782e+08</td>\n",
       "      <td>NaN</td>\n",
       "    </tr>\n",
       "    <tr>\n",
       "      <th>min</th>\n",
       "      <td>1.607961e+18</td>\n",
       "      <td>NaN</td>\n",
       "      <td>2.222487e+06</td>\n",
       "      <td>NaN</td>\n",
       "      <td>1.607961e+09</td>\n",
       "      <td>4.588800e+04</td>\n",
       "      <td>NaN</td>\n",
       "    </tr>\n",
       "    <tr>\n",
       "      <th>25%</th>\n",
       "      <td>1.607962e+18</td>\n",
       "      <td>NaN</td>\n",
       "      <td>2.362822e+06</td>\n",
       "      <td>NaN</td>\n",
       "      <td>1.607962e+09</td>\n",
       "      <td>2.503094e+08</td>\n",
       "      <td>NaN</td>\n",
       "    </tr>\n",
       "    <tr>\n",
       "      <th>50%</th>\n",
       "      <td>1.607964e+18</td>\n",
       "      <td>NaN</td>\n",
       "      <td>2.512125e+06</td>\n",
       "      <td>NaN</td>\n",
       "      <td>1.607964e+09</td>\n",
       "      <td>5.003741e+08</td>\n",
       "      <td>NaN</td>\n",
       "    </tr>\n",
       "    <tr>\n",
       "      <th>75%</th>\n",
       "      <td>1.607965e+18</td>\n",
       "      <td>NaN</td>\n",
       "      <td>2.649484e+06</td>\n",
       "      <td>NaN</td>\n",
       "      <td>1.607965e+09</td>\n",
       "      <td>7.501132e+08</td>\n",
       "      <td>NaN</td>\n",
       "    </tr>\n",
       "    <tr>\n",
       "      <th>max</th>\n",
       "      <td>1.607966e+18</td>\n",
       "      <td>NaN</td>\n",
       "      <td>2.790040e+06</td>\n",
       "      <td>NaN</td>\n",
       "      <td>1.607966e+09</td>\n",
       "      <td>9.999693e+08</td>\n",
       "      <td>NaN</td>\n",
       "    </tr>\n",
       "  </tbody>\n",
       "</table>\n",
       "</div>"
      ],
      "text/plain": [
       "       rosbagTimestamp  header           seq  stamp          secs  \\\n",
       "count     2.500000e+04     0.0  2.500000e+04    0.0  2.500000e+04   \n",
       "mean      1.607964e+18     NaN  2.507394e+06    NaN  1.607964e+09   \n",
       "std       1.343896e+12     NaN  1.679944e+05    NaN  1.343896e+03   \n",
       "min       1.607961e+18     NaN  2.222487e+06    NaN  1.607961e+09   \n",
       "25%       1.607962e+18     NaN  2.362822e+06    NaN  1.607962e+09   \n",
       "50%       1.607964e+18     NaN  2.512125e+06    NaN  1.607964e+09   \n",
       "75%       1.607965e+18     NaN  2.649484e+06    NaN  1.607965e+09   \n",
       "max       1.607966e+18     NaN  2.790040e+06    NaN  1.607966e+09   \n",
       "\n",
       "              nsecs  effort  \n",
       "count  2.500000e+04     0.0  \n",
       "mean   5.002121e+08     NaN  \n",
       "std    2.886782e+08     NaN  \n",
       "min    4.588800e+04     NaN  \n",
       "25%    2.503094e+08     NaN  \n",
       "50%    5.003741e+08     NaN  \n",
       "75%    7.501132e+08     NaN  \n",
       "max    9.999693e+08     NaN  "
      ]
     },
     "metadata": {},
     "output_type": "display_data"
    },
    {
     "data": {
      "text/html": [
       "<div>\n",
       "<style scoped>\n",
       "    .dataframe tbody tr th:only-of-type {\n",
       "        vertical-align: middle;\n",
       "    }\n",
       "\n",
       "    .dataframe tbody tr th {\n",
       "        vertical-align: top;\n",
       "    }\n",
       "\n",
       "    .dataframe thead th {\n",
       "        text-align: right;\n",
       "    }\n",
       "</style>\n",
       "<table border=\"1\" class=\"dataframe\">\n",
       "  <thead>\n",
       "    <tr style=\"text-align: right;\">\n",
       "      <th></th>\n",
       "      <th>rosbagTimestamp</th>\n",
       "      <th>Fx</th>\n",
       "      <th>Fy</th>\n",
       "      <th>Fz</th>\n",
       "      <th>Mx</th>\n",
       "      <th>My</th>\n",
       "      <th>Mz</th>\n",
       "    </tr>\n",
       "  </thead>\n",
       "  <tbody>\n",
       "    <tr>\n",
       "      <th>count</th>\n",
       "      <td>2.500000e+04</td>\n",
       "      <td>25000.000000</td>\n",
       "      <td>25000.000000</td>\n",
       "      <td>25000.000000</td>\n",
       "      <td>25000.000000</td>\n",
       "      <td>25000.000000</td>\n",
       "      <td>25000.000000</td>\n",
       "    </tr>\n",
       "    <tr>\n",
       "      <th>mean</th>\n",
       "      <td>1.607964e+18</td>\n",
       "      <td>-0.311344</td>\n",
       "      <td>-11.865204</td>\n",
       "      <td>-1.115461</td>\n",
       "      <td>1.678300</td>\n",
       "      <td>-0.307577</td>\n",
       "      <td>0.053131</td>\n",
       "    </tr>\n",
       "    <tr>\n",
       "      <th>std</th>\n",
       "      <td>1.343902e+12</td>\n",
       "      <td>2.673301</td>\n",
       "      <td>19.032878</td>\n",
       "      <td>4.102238</td>\n",
       "      <td>2.594895</td>\n",
       "      <td>0.633897</td>\n",
       "      <td>0.203937</td>\n",
       "    </tr>\n",
       "    <tr>\n",
       "      <th>min</th>\n",
       "      <td>1.607961e+18</td>\n",
       "      <td>-23.580002</td>\n",
       "      <td>-76.710007</td>\n",
       "      <td>-22.620001</td>\n",
       "      <td>-9.193001</td>\n",
       "      <td>-6.818999</td>\n",
       "      <td>-1.011000</td>\n",
       "    </tr>\n",
       "    <tr>\n",
       "      <th>25%</th>\n",
       "      <td>1.607962e+18</td>\n",
       "      <td>-1.100006</td>\n",
       "      <td>-22.910004</td>\n",
       "      <td>-3.969999</td>\n",
       "      <td>-0.048000</td>\n",
       "      <td>-0.462000</td>\n",
       "      <td>-0.073000</td>\n",
       "    </tr>\n",
       "    <tr>\n",
       "      <th>50%</th>\n",
       "      <td>1.607964e+18</td>\n",
       "      <td>-0.300003</td>\n",
       "      <td>-3.750000</td>\n",
       "      <td>-0.119999</td>\n",
       "      <td>0.535000</td>\n",
       "      <td>-0.245000</td>\n",
       "      <td>0.046000</td>\n",
       "    </tr>\n",
       "    <tr>\n",
       "      <th>75%</th>\n",
       "      <td>1.607965e+18</td>\n",
       "      <td>0.860001</td>\n",
       "      <td>0.619995</td>\n",
       "      <td>1.200001</td>\n",
       "      <td>3.182000</td>\n",
       "      <td>-0.066000</td>\n",
       "      <td>0.171000</td>\n",
       "    </tr>\n",
       "    <tr>\n",
       "      <th>max</th>\n",
       "      <td>1.607966e+18</td>\n",
       "      <td>26.779999</td>\n",
       "      <td>73.739990</td>\n",
       "      <td>22.320000</td>\n",
       "      <td>11.070000</td>\n",
       "      <td>6.870000</td>\n",
       "      <td>1.237000</td>\n",
       "    </tr>\n",
       "  </tbody>\n",
       "</table>\n",
       "</div>"
      ],
      "text/plain": [
       "       rosbagTimestamp            Fx            Fy            Fz  \\\n",
       "count     2.500000e+04  25000.000000  25000.000000  25000.000000   \n",
       "mean      1.607964e+18     -0.311344    -11.865204     -1.115461   \n",
       "std       1.343902e+12      2.673301     19.032878      4.102238   \n",
       "min       1.607961e+18    -23.580002    -76.710007    -22.620001   \n",
       "25%       1.607962e+18     -1.100006    -22.910004     -3.969999   \n",
       "50%       1.607964e+18     -0.300003     -3.750000     -0.119999   \n",
       "75%       1.607965e+18      0.860001      0.619995      1.200001   \n",
       "max       1.607966e+18     26.779999     73.739990     22.320000   \n",
       "\n",
       "                 Mx            My            Mz  \n",
       "count  25000.000000  25000.000000  25000.000000  \n",
       "mean       1.678300     -0.307577      0.053131  \n",
       "std        2.594895      0.633897      0.203937  \n",
       "min       -9.193001     -6.818999     -1.011000  \n",
       "25%       -0.048000     -0.462000     -0.073000  \n",
       "50%        0.535000     -0.245000      0.046000  \n",
       "75%        3.182000     -0.066000      0.171000  \n",
       "max       11.070000      6.870000      1.237000  "
      ]
     },
     "metadata": {},
     "output_type": "display_data"
    }
   ],
   "source": [
    "display(ur_data.describe())\n",
    "display(force_data.describe())\n"
   ]
  }
 ],
 "metadata": {
  "kernelspec": {
   "display_name": "Python 3",
   "language": "python",
   "name": "python3"
  },
  "language_info": {
   "codemirror_mode": {
    "name": "ipython",
    "version": 3
   },
   "file_extension": ".py",
   "mimetype": "text/x-python",
   "name": "python",
   "nbconvert_exporter": "python",
   "pygments_lexer": "ipython3",
   "version": "3.7.6"
  },
  "latex_envs": {
   "LaTeX_envs_menu_present": true,
   "autoclose": true,
   "autocomplete": true,
   "bibliofile": "biblio.bib",
   "cite_by": "apalike",
   "current_citInitial": 1,
   "eqLabelWithNumbers": true,
   "eqNumInitial": 1,
   "hotkeys": {
    "equation": "Ctrl-E",
    "itemize": "Ctrl-I"
   },
   "labels_anchors": false,
   "latex_user_defs": false,
   "report_style_numbering": true,
   "user_envs_cfg": false
  }
 },
 "nbformat": 4,
 "nbformat_minor": 4
}
